{
  "nbformat": 4,
  "nbformat_minor": 0,
  "metadata": {
    "colab": {
      "provenance": [],
      "authorship_tag": "ABX9TyOpNweDtrfztOk0nHqeczPg",
      "include_colab_link": true
    },
    "kernelspec": {
      "name": "python3",
      "display_name": "Python 3"
    },
    "language_info": {
      "name": "python"
    }
  },
  "cells": [
    {
      "cell_type": "markdown",
      "metadata": {
        "id": "view-in-github",
        "colab_type": "text"
      },
      "source": [
        "<a href=\"https://colab.research.google.com/github/MegaChie/AirBnB_clone/blob/main/Notebook/0x00_AirBnB_clone_The_console.ipynb\" target=\"_parent\"><img src=\"https://colab.research.google.com/assets/colab-badge.svg\" alt=\"Open In Colab\"/></a>"
      ]
    },
    {
      "cell_type": "markdown",
      "source": [
        "# Classes and Codes"
      ],
      "metadata": {
        "id": "t2Eiq6OFBHL2"
      }
    },
    {
      "cell_type": "code",
      "execution_count": 1,
      "metadata": {
        "id": "v2oJM3xr-wad"
      },
      "outputs": [],
      "source": [
        "# models/base_model.py\n",
        "import uuid\n",
        "from datetime import datetime\n",
        "\n",
        "\n",
        "class BaseModel:\n",
        "    \"\"\" BaseModel \"\"\"\n",
        "    def __init__(self, *args, **kwargs):\n",
        "        if kwargs is not None and  kwargs != {}:\n",
        "            for key in kwargs:\n",
        "                if key == \"created_at\":\n",
        "                    self.__dict__[\"created_at\"] = datetime.strptime(\n",
        "                        kwargs[\"created_at\"], \"%Y-%m-%dT%H:%M:%S.%f\")\n",
        "                elif key == \"updated_at\":\n",
        "                    self.__dict__[\"updated_at\"] = datetime.strptime(\n",
        "                        kwargs[\"updated_at\"], \"%Y-%m-%dT%H:%M:%S.%f\")\n",
        "                else:\n",
        "                    self.__dict__ [key] = kwargs[key] \n",
        "        else:\n",
        "            self.id = str(uuid.uuid4())\n",
        "            self.created_at = datetime.now()\n",
        "            self.updated_at = datetime.now()\n",
        "    \n",
        "    def __str__(self):\n",
        "        \"\"\" BaseModel \"\"\"\n",
        "        return (\"[{}] ({}) {}\".format(type(self).__name__,\n",
        "                                      self.id, self.__dict__))\n",
        "        \n",
        "    def save(self):\n",
        "        \"\"\" BaseModel \"\"\"\n",
        "        self.update_at = datetime.now()\n",
        "\n",
        "    def to_dict(self):\n",
        "        \"\"\" BaseModel \"\"\"\n",
        "        newDict = self.__dict__.copy()\n",
        "        newDict[\"__class__\"] = type(self).__name__\n",
        "        newDict[\"created_at\"] = newDict[\"created_at\"].isoformat()\n",
        "        newDict[\"updated_at\"] = newDict[\"updated_at\"].isoformat()\n",
        "        return newDict"
      ]
    },
    {
      "cell_type": "code",
      "source": [
        "# models/engine/file_storage.py\n",
        "import json\n",
        "import os\n",
        "\n",
        "\n",
        "class FileStorage:\n",
        "    \"\"\" Store first object \"\"\"\n",
        "    __file_path = \"file.json\"\n",
        "    __objects = {}\n",
        "    \n",
        "    def all(self):\n",
        "        \"\"\" Store first object \"\"\"\n",
        "        return FileStorage.__objects\n",
        "\n",
        "    def new(self, obj):\n",
        "        \"\"\" Store first object \"\"\"\n",
        "        key = \"{}.{}\".format(type(obj).__name__, obj.id)\n",
        "        FileStorage.__objects[key] = obj\n",
        "\n",
        "    def save(self):\n",
        "        \"\"\" Store first object \"\"\"\n",
        "        with open(FileStorage.__file_path, \"w\", encoding=\"utf-8\") as writer:\n",
        "            d = {key: value.to_dict() for\n",
        "                 key, value in FileStorage.__objects.items()}\n",
        "            json.dump(d, writer)\n",
        "\n",
        "    def reload(self):\n",
        "        \"\"\" Store first object \"\"\"\n",
        "        if not os.path.isfile(FileStorage.__file_path):\n",
        "            return\n",
        "        with open(FileStorage.__file_path, \"r\", encoding=\"utf-8\") as opener:\n",
        "            obj_dict = json.load(opener)\n",
        "            obj_dict = {key: self.classes()[value[\"__class__\"]](**v)\n",
        "                        for key, value in obj_dict.items()}\n",
        "            FileStorage.__objects = obj_dict\n",
        "\n",
        "    def classes(self):\n",
        "        classes = {\"BaseModel\": BaseModel}\n",
        "        return classes"
      ],
      "metadata": {
        "id": "0Zb7pwLVxLYU"
      },
      "execution_count": 2,
      "outputs": []
    },
    {
      "cell_type": "code",
      "source": [
        "# models/__init__.py\n",
        "# from models.engine.file_storage import FileStorage\n",
        "\n",
        "\n",
        "storage = FileStorage()\n",
        "storage.reload()"
      ],
      "metadata": {
        "id": "abLtQw34fi0Y"
      },
      "execution_count": 3,
      "outputs": []
    },
    {
      "cell_type": "markdown",
      "source": [
        "# Tests"
      ],
      "metadata": {
        "id": "DNqTba5VBIL3"
      }
    },
    {
      "cell_type": "code",
      "source": [
        "my_model = BaseModel()\n",
        "my_model.name = \"My First Model\"\n",
        "my_model.my_number = 89\n",
        "print(my_model)\n",
        "my_model.save()\n",
        "print(my_model)\n",
        "my_model_json = my_model.to_dict()\n",
        "print(my_model_json)\n",
        "print(\"JSON of my_model:\")\n",
        "for key in my_model_json.keys():\n",
        "    print(\"\\t{}: ({}) - {}\".format(key, type(my_model_json[key]), my_model_json[key]))"
      ],
      "metadata": {
        "colab": {
          "base_uri": "https://localhost:8080/"
        },
        "id": "VW16V3vKIAvw",
        "outputId": "83b2005c-e27a-4908-d756-9748d0650b15"
      },
      "execution_count": 4,
      "outputs": [
        {
          "output_type": "stream",
          "name": "stdout",
          "text": [
            "[BaseModel] (b77e62d3-3343-405a-a5d9-fdfc0539b306) {'id': 'b77e62d3-3343-405a-a5d9-fdfc0539b306', 'created_at': datetime.datetime(2023, 3, 7, 20, 59, 45, 70664), 'updated_at': datetime.datetime(2023, 3, 7, 20, 59, 45, 70670), 'name': 'My First Model', 'my_number': 89}\n",
            "[BaseModel] (b77e62d3-3343-405a-a5d9-fdfc0539b306) {'id': 'b77e62d3-3343-405a-a5d9-fdfc0539b306', 'created_at': datetime.datetime(2023, 3, 7, 20, 59, 45, 70664), 'updated_at': datetime.datetime(2023, 3, 7, 20, 59, 45, 70670), 'name': 'My First Model', 'my_number': 89, 'update_at': datetime.datetime(2023, 3, 7, 20, 59, 45, 70961)}\n",
            "{'id': 'b77e62d3-3343-405a-a5d9-fdfc0539b306', 'created_at': '2023-03-07T20:59:45.070664', 'updated_at': '2023-03-07T20:59:45.070670', 'name': 'My First Model', 'my_number': 89, 'update_at': datetime.datetime(2023, 3, 7, 20, 59, 45, 70961), '__class__': 'BaseModel'}\n",
            "JSON of my_model:\n",
            "\tid: (<class 'str'>) - b77e62d3-3343-405a-a5d9-fdfc0539b306\n",
            "\tcreated_at: (<class 'str'>) - 2023-03-07T20:59:45.070664\n",
            "\tupdated_at: (<class 'str'>) - 2023-03-07T20:59:45.070670\n",
            "\tname: (<class 'str'>) - My First Model\n",
            "\tmy_number: (<class 'int'>) - 89\n",
            "\tupdate_at: (<class 'datetime.datetime'>) - 2023-03-07 20:59:45.070961\n",
            "\t__class__: (<class 'str'>) - BaseModel\n"
          ]
        }
      ]
    },
    {
      "cell_type": "code",
      "source": [
        "my_model = BaseModel()\n",
        "my_model.name = \"My_First_Model\"\n",
        "my_model.my_number = 89\n",
        "print(my_model.id)\n",
        "print(my_model)\n",
        "print(type(my_model.created_at))\n",
        "print(\"--\")\n",
        "my_model_json = my_model.to_dict()\n",
        "print(my_model_json)\n",
        "print(\"JSON of my_model:\")\n",
        "for key in my_model_json.keys():\n",
        "    print(\"\\t{}: ({}) - {}\".format(key, type(my_model_json[key]), my_model_json[key]))\n",
        "\n",
        "print(\"--\")\n",
        "my_new_model = BaseModel(**my_model_json)\n",
        "print(my_new_model.id)\n",
        "print(my_new_model)\n",
        "print(type(my_new_model.created_at))\n",
        "\n",
        "print(\"--\")\n",
        "print(my_model is my_new_model)"
      ],
      "metadata": {
        "colab": {
          "base_uri": "https://localhost:8080/"
        },
        "id": "MapXEYWcTdAU",
        "outputId": "119871b4-4ad0-40a5-9a14-3708c6586e15"
      },
      "execution_count": 5,
      "outputs": [
        {
          "output_type": "stream",
          "name": "stdout",
          "text": [
            "798bcbe4-a2b1-406b-93a3-a4fc97abf81d\n",
            "[BaseModel] (798bcbe4-a2b1-406b-93a3-a4fc97abf81d) {'id': '798bcbe4-a2b1-406b-93a3-a4fc97abf81d', 'created_at': datetime.datetime(2023, 3, 7, 20, 59, 45, 127760), 'updated_at': datetime.datetime(2023, 3, 7, 20, 59, 45, 127764), 'name': 'My_First_Model', 'my_number': 89}\n",
            "<class 'datetime.datetime'>\n",
            "--\n",
            "{'id': '798bcbe4-a2b1-406b-93a3-a4fc97abf81d', 'created_at': '2023-03-07T20:59:45.127760', 'updated_at': '2023-03-07T20:59:45.127764', 'name': 'My_First_Model', 'my_number': 89, '__class__': 'BaseModel'}\n",
            "JSON of my_model:\n",
            "\tid: (<class 'str'>) - 798bcbe4-a2b1-406b-93a3-a4fc97abf81d\n",
            "\tcreated_at: (<class 'str'>) - 2023-03-07T20:59:45.127760\n",
            "\tupdated_at: (<class 'str'>) - 2023-03-07T20:59:45.127764\n",
            "\tname: (<class 'str'>) - My_First_Model\n",
            "\tmy_number: (<class 'int'>) - 89\n",
            "\t__class__: (<class 'str'>) - BaseModel\n",
            "--\n",
            "798bcbe4-a2b1-406b-93a3-a4fc97abf81d\n",
            "[BaseModel] (798bcbe4-a2b1-406b-93a3-a4fc97abf81d) {'id': '798bcbe4-a2b1-406b-93a3-a4fc97abf81d', 'created_at': datetime.datetime(2023, 3, 7, 20, 59, 45, 127760), 'updated_at': datetime.datetime(2023, 3, 7, 20, 59, 45, 127764), 'name': 'My_First_Model', 'my_number': 89, '__class__': 'BaseModel'}\n",
            "<class 'datetime.datetime'>\n",
            "--\n",
            "False\n"
          ]
        }
      ]
    },
    {
      "cell_type": "code",
      "source": [
        "all_objs = storage.all()\n",
        "print(\"-- Reloaded objects --\")\n",
        "for obj_id in all_objs.keys():\n",
        "    obj = all_objs[obj_id]\n",
        "    print(obj)\n",
        "\n",
        "print(\"-- Create a new object --\")\n",
        "my_model = BaseModel()\n",
        "my_model.name = \"My_First_Model\"\n",
        "my_model.my_number = 89\n",
        "my_model.save()\n",
        "print(my_model)"
      ],
      "metadata": {
        "colab": {
          "base_uri": "https://localhost:8080/"
        },
        "id": "xi6s60dekkzo",
        "outputId": "57488af9-a89f-4c28-8560-5ca134dcb9a0"
      },
      "execution_count": 6,
      "outputs": [
        {
          "output_type": "stream",
          "name": "stdout",
          "text": [
            "-- Reloaded objects --\n",
            "-- Create a new object --\n",
            "[BaseModel] (92d97bf2-86e4-4722-88a8-421d8758d174) {'id': '92d97bf2-86e4-4722-88a8-421d8758d174', 'created_at': datetime.datetime(2023, 3, 7, 20, 59, 45, 196841), 'updated_at': datetime.datetime(2023, 3, 7, 20, 59, 45, 196847), 'name': 'My_First_Model', 'my_number': 89, 'update_at': datetime.datetime(2023, 3, 7, 20, 59, 45, 196974)}\n"
          ]
        }
      ]
    }
  ]
}