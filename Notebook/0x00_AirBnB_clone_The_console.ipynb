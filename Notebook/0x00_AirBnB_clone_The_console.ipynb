{
  "nbformat": 4,
  "nbformat_minor": 0,
  "metadata": {
    "colab": {
      "provenance": [],
      "authorship_tag": "ABX9TyODjOyi+zaZPpU3h2+m8OFN",
      "include_colab_link": true
    },
    "kernelspec": {
      "name": "python3",
      "display_name": "Python 3"
    },
    "language_info": {
      "name": "python"
    }
  },
  "cells": [
    {
      "cell_type": "markdown",
      "metadata": {
        "id": "view-in-github",
        "colab_type": "text"
      },
      "source": [
        "<a href=\"https://colab.research.google.com/github/MegaChie/AirBnB_clone/blob/main/Notebook/0x00_AirBnB_clone_The_console.ipynb\" target=\"_parent\"><img src=\"https://colab.research.google.com/assets/colab-badge.svg\" alt=\"Open In Colab\"/></a>"
      ]
    },
    {
      "cell_type": "markdown",
      "source": [
        "# Classes and Codes"
      ],
      "metadata": {
        "id": "t2Eiq6OFBHL2"
      }
    },
    {
      "cell_type": "code",
      "execution_count": 2,
      "metadata": {
        "id": "v2oJM3xr-wad"
      },
      "outputs": [],
      "source": [
        "#!/usr/bin/python3\n",
        "\"\"\" BaseModel \"\"\"\n",
        "\n",
        "\n",
        "import uuid\n",
        "from datetime import datetime\n",
        "# from models import storage\n",
        "\n",
        "\n",
        "class BaseModel:\n",
        "    \"\"\" BaseModel \"\"\"\n",
        "    def __init__(self, *args, **kwargs):\n",
        "        if kwargs is not None and kwargs != {}:\n",
        "            for key in kwargs:\n",
        "                if key == \"created_at\":\n",
        "                    self.__dict__[\"created_at\"] = datetime.strptime(\n",
        "                        kwargs[\"created_at\"], \"%Y-%m-%dT%H:%M:%S.%f\")\n",
        "                elif key == \"updated_at\":\n",
        "                    self.__dict__[\"updated_at\"] = datetime.strptime(\n",
        "                        kwargs[\"updated_at\"], \"%Y-%m-%dT%H:%M:%S.%f\")\n",
        "                else:\n",
        "                    self.__dict__[key] = kwargs[key]\n",
        "        else:\n",
        "            self.id = str(uuid.uuid4())\n",
        "            self.created_at = datetime.now()\n",
        "            self.updated_at = datetime.now()\n",
        "            storage.new(self)\n",
        "\n",
        "    def __str__(self):\n",
        "        \"\"\" BaseModel \"\"\"\n",
        "        return \"[{}] ({}) {}\".\\\n",
        "            format(type(self).__name__, self.id, self.__dict__)\n",
        "\n",
        "    def save(self):\n",
        "        \"\"\" BaseModel \"\"\"\n",
        "        self.updated_at = datetime.now()\n",
        "        storage.save()\n",
        "\n",
        "    def to_dict(self):\n",
        "        \"\"\" BaseModel \"\"\"\n",
        "        newDict = self.__dict__.copy()\n",
        "        newDict[\"__class__\"] = type(self).__name__\n",
        "        newDict[\"created_at\"] = newDict[\"created_at\"].isoformat()\n",
        "        newDict[\"updated_at\"] = newDict[\"updated_at\"].isoformat()\n",
        "        return newDict\n"
      ]
    },
    {
      "cell_type": "code",
      "source": [
        "#!/usr/bin/python3\n",
        "\"\"\" FileStorage \"\"\"\n",
        "\n",
        "\n",
        "import json\n",
        "import datetime\n",
        "import os\n",
        "\n",
        "\n",
        "class FileStorage:\n",
        "    \"\"\" Store first object \"\"\"\n",
        "    __file_path = \"file.json\"\n",
        "    __objects = {}\n",
        "\n",
        "    def all(self):\n",
        "        \"\"\" Store first object \"\"\"\n",
        "        return FileStorage.__objects\n",
        "\n",
        "    def new(self, obj):\n",
        "        \"\"\" Store first object \"\"\"\n",
        "        key = \"{}.{}\".format(type(obj).__name__, obj.id)\n",
        "        FileStorage.__objects[key] = obj\n",
        "\n",
        "    def save(self):\n",
        "        \"\"\" Store first object \"\"\"\n",
        "        with open(FileStorage.__file_path, \"w\", encoding=\"utf-8\") as writer:\n",
        "            d = {key: value.to_dict() for\n",
        "                 key, value in FileStorage.__objects.items()}\n",
        "            json.dump(d, writer)\n",
        "\n",
        "    def classes(self):\n",
        "        # from models.base_model import BaseModel\n",
        "        # from models.user import User\n",
        "        # from models.state import State\n",
        "        # from models.city import City\n",
        "        # from models.amenity import Amenity\n",
        "        # from models.place import Place\n",
        "        # from models.review import Review\n",
        "        classes = {\"BaseModel\": BaseModel,\n",
        "                   \"User\": User,\n",
        "                   \"State\": State,\n",
        "                   \"City\": City,\n",
        "                   \"Amenity\": Amenity,\n",
        "                   \"Place\": Place,\n",
        "                   \"Review\": Review}\n",
        "        return classes\n",
        "\n",
        "    def reload(self):\n",
        "        \"\"\" Store first object \"\"\"\n",
        "        if not os.path.isfile(FileStorage.__file_path):\n",
        "            return\n",
        "        with open(FileStorage.__file_path, \"r\", encoding=\"utf-8\") as opener:\n",
        "            objDict = json.load(opener)\n",
        "            objDict = {k: self.classes()[v[\"__class__\"]](**v)\n",
        "                       for k, v in objDict.items()}\n",
        "            FileStorage.__objects = objDict\n"
      ],
      "metadata": {
        "id": "0Zb7pwLVxLYU"
      },
      "execution_count": 3,
      "outputs": []
    },
    {
      "cell_type": "code",
      "source": [
        "#!/usr/bin/python3\n",
        "\"\"\" FileStorage \"\"\"\n",
        "\n",
        "\n",
        "# from models.engine.file_storage import FileStorage\n",
        "storage = FileStorage()\n",
        "storage.reload()\n"
      ],
      "metadata": {
        "id": "abLtQw34fi0Y"
      },
      "execution_count": 4,
      "outputs": []
    },
    {
      "cell_type": "code",
      "source": [
        "#!/usr/bin/python3\n",
        "\"\"\" First User \"\"\"\n",
        "# from models.base_model import BaseModel\n",
        "\n",
        "\n",
        "class User(BaseModel):\n",
        "    \"\"\" First User \"\"\"\n",
        "    email = \"\"\n",
        "    password = \"\"\n",
        "    first_name = \"\"\n",
        "    last_name = \"\"\n"
      ],
      "metadata": {
        "id": "e5spPxK1GsPj"
      },
      "execution_count": 5,
      "outputs": []
    },
    {
      "cell_type": "code",
      "source": [
        "#!/usr/bin/python3\n",
        "\"\"\" More classes! \"\"\"\n",
        "# from models.base_model import BaseModel\n",
        "\n",
        "\n",
        "class State(BaseModel):\n",
        "    \"\"\" More classes! \"\"\"\n",
        "    name = \"\"\n"
      ],
      "metadata": {
        "id": "v9Yno5Q8H9qU"
      },
      "execution_count": 6,
      "outputs": []
    },
    {
      "cell_type": "code",
      "source": [
        "#!/usr/bin/python3\n",
        "\"\"\" More classes! \"\"\"\n",
        "# from models.base_model import BaseModel\n",
        "\n",
        "\n",
        "class City(BaseModel):\n",
        "    \"\"\" More classes! \"\"\"\n",
        "    state_id = \"\"\n",
        "    name = \"\"\n"
      ],
      "metadata": {
        "id": "0vJXVskIIPbw"
      },
      "execution_count": 7,
      "outputs": []
    },
    {
      "cell_type": "code",
      "source": [
        "#!/usr/bin/python3\n",
        "\"\"\" More classes! \"\"\"\n",
        "# from models.base_model import BaseModel\n",
        "\n",
        "\n",
        "class Amenity(BaseModel):\n",
        "    \"\"\" More classes! \"\"\"\n",
        "    name = \"\"\n"
      ],
      "metadata": {
        "id": "-V5RZp1qIup4"
      },
      "execution_count": 8,
      "outputs": []
    },
    {
      "cell_type": "code",
      "source": [
        "#!/usr/bin/python3\n",
        "\"\"\" More classes! \"\"\"\n",
        "# from models.base_model import BaseModel\n",
        "\n",
        "\n",
        "class Place(BaseModel):\n",
        "    \"\"\" More classes! \"\"\"\n",
        "    city_id = \"\"\n",
        "    user_id = \"\"\n",
        "    name = \"\"\n",
        "    name = \"\"\n",
        "    number_rooms = 0\n",
        "    number_bathrooms = 0\n",
        "    max_guest = 0\n",
        "    price_by_night = 0\n",
        "    latitude = 0.0\n",
        "    longitude = 0.0\n",
        "    amenity_ids = []\n"
      ],
      "metadata": {
        "id": "3nAZJEx8I-yf"
      },
      "execution_count": 9,
      "outputs": []
    },
    {
      "cell_type": "code",
      "source": [
        "#!/usr/bin/python3\n",
        "\"\"\" More classes! \"\"\"\n",
        "# from models.base_model import BaseModel\n",
        "\n",
        "\n",
        "class Review(BaseModel):\n",
        "    \"\"\" More classes! \"\"\"\n",
        "    place_id = \"\"\n",
        "    user_id = \"\"\n",
        "    text = \"\"\n"
      ],
      "metadata": {
        "id": "bWzsZDihJ2rX"
      },
      "execution_count": 10,
      "outputs": []
    },
    {
      "cell_type": "markdown",
      "source": [
        "# Tests"
      ],
      "metadata": {
        "id": "DNqTba5VBIL3"
      }
    },
    {
      "cell_type": "code",
      "source": [
        "my_model = BaseModel()\n",
        "my_model.name = \"My First Model\"\n",
        "my_model.my_number = 89\n",
        "print(my_model)\n",
        "my_model.save()\n",
        "print(my_model)\n",
        "my_model_json = my_model.to_dict()\n",
        "print(my_model_json)\n",
        "print(\"JSON of my_model:\")\n",
        "for key in my_model_json.keys():\n",
        "    print(\"\\t{}: ({}) - {}\".format(key, type(my_model_json[key]), my_model_json[key]))"
      ],
      "metadata": {
        "colab": {
          "base_uri": "https://localhost:8080/"
        },
        "id": "VW16V3vKIAvw",
        "outputId": "a473166a-5df0-42a8-a435-0050b5f65982"
      },
      "execution_count": null,
      "outputs": [
        {
          "output_type": "stream",
          "name": "stdout",
          "text": [
            "[BaseModel] (5b5791cc-1e19-4159-9b60-e5f259d2e581) {'id': '5b5791cc-1e19-4159-9b60-e5f259d2e581', 'created_at': datetime.datetime(2023, 3, 11, 22, 56, 11, 697976), 'updated_at': datetime.datetime(2023, 3, 11, 22, 56, 11, 697980), 'name': 'My First Model', 'my_number': 89}\n",
            "[BaseModel] (5b5791cc-1e19-4159-9b60-e5f259d2e581) {'id': '5b5791cc-1e19-4159-9b60-e5f259d2e581', 'created_at': datetime.datetime(2023, 3, 11, 22, 56, 11, 697976), 'updated_at': datetime.datetime(2023, 3, 11, 22, 56, 11, 697980), 'name': 'My First Model', 'my_number': 89, 'update_at': datetime.datetime(2023, 3, 11, 22, 56, 11, 698341)}\n",
            "{'id': '5b5791cc-1e19-4159-9b60-e5f259d2e581', 'created_at': '2023-03-11T22:56:11.697976', 'updated_at': '2023-03-11T22:56:11.697980', 'name': 'My First Model', 'my_number': 89, 'update_at': datetime.datetime(2023, 3, 11, 22, 56, 11, 698341), '__class__': 'BaseModel'}\n",
            "JSON of my_model:\n",
            "\tid: (<class 'str'>) - 5b5791cc-1e19-4159-9b60-e5f259d2e581\n",
            "\tcreated_at: (<class 'str'>) - 2023-03-11T22:56:11.697976\n",
            "\tupdated_at: (<class 'str'>) - 2023-03-11T22:56:11.697980\n",
            "\tname: (<class 'str'>) - My First Model\n",
            "\tmy_number: (<class 'int'>) - 89\n",
            "\tupdate_at: (<class 'datetime.datetime'>) - 2023-03-11 22:56:11.698341\n",
            "\t__class__: (<class 'str'>) - BaseModel\n"
          ]
        }
      ]
    },
    {
      "cell_type": "code",
      "source": [
        "my_model = BaseModel()\n",
        "my_model.name = \"My_First_Model\"\n",
        "my_model.my_number = 89\n",
        "print(my_model.id)\n",
        "print(my_model)\n",
        "print(type(my_model.created_at))\n",
        "print(\"--\")\n",
        "my_model_json = my_model.to_dict()\n",
        "print(my_model_json)\n",
        "print(\"JSON of my_model:\")\n",
        "for key in my_model_json.keys():\n",
        "    print(\"\\t{}: ({}) - {}\".format(key, type(my_model_json[key]), my_model_json[key]))\n",
        "\n",
        "print(\"--\")\n",
        "my_new_model = BaseModel(**my_model_json)\n",
        "print(my_new_model.id)\n",
        "print(my_new_model)\n",
        "print(type(my_new_model.created_at))\n",
        "\n",
        "print(\"--\")\n",
        "print(my_model is my_new_model)"
      ],
      "metadata": {
        "colab": {
          "base_uri": "https://localhost:8080/"
        },
        "id": "MapXEYWcTdAU",
        "outputId": "eb177f4c-a309-43fd-8d3c-5ae98aa24f3b"
      },
      "execution_count": null,
      "outputs": [
        {
          "output_type": "stream",
          "name": "stdout",
          "text": [
            "ad9f1e8d-39ae-4f80-8192-0393d5785fb3\n",
            "[BaseModel] (ad9f1e8d-39ae-4f80-8192-0393d5785fb3) {'id': 'ad9f1e8d-39ae-4f80-8192-0393d5785fb3', 'created_at': datetime.datetime(2023, 3, 11, 22, 56, 11, 727082), 'updated_at': datetime.datetime(2023, 3, 11, 22, 56, 11, 727086), 'name': 'My_First_Model', 'my_number': 89}\n",
            "<class 'datetime.datetime'>\n",
            "--\n",
            "{'id': 'ad9f1e8d-39ae-4f80-8192-0393d5785fb3', 'created_at': '2023-03-11T22:56:11.727082', 'updated_at': '2023-03-11T22:56:11.727086', 'name': 'My_First_Model', 'my_number': 89, '__class__': 'BaseModel'}\n",
            "JSON of my_model:\n",
            "\tid: (<class 'str'>) - ad9f1e8d-39ae-4f80-8192-0393d5785fb3\n",
            "\tcreated_at: (<class 'str'>) - 2023-03-11T22:56:11.727082\n",
            "\tupdated_at: (<class 'str'>) - 2023-03-11T22:56:11.727086\n",
            "\tname: (<class 'str'>) - My_First_Model\n",
            "\tmy_number: (<class 'int'>) - 89\n",
            "\t__class__: (<class 'str'>) - BaseModel\n",
            "--\n",
            "ad9f1e8d-39ae-4f80-8192-0393d5785fb3\n",
            "[BaseModel] (ad9f1e8d-39ae-4f80-8192-0393d5785fb3) {'id': 'ad9f1e8d-39ae-4f80-8192-0393d5785fb3', 'created_at': datetime.datetime(2023, 3, 11, 22, 56, 11, 727082), 'updated_at': datetime.datetime(2023, 3, 11, 22, 56, 11, 727086), 'name': 'My_First_Model', 'my_number': 89, '__class__': 'BaseModel'}\n",
            "<class 'datetime.datetime'>\n",
            "--\n",
            "False\n"
          ]
        }
      ]
    },
    {
      "cell_type": "code",
      "source": [
        "all_objs = storage.all()\n",
        "print(\"-- Reloaded objects --\")\n",
        "for obj_id in all_objs.keys():\n",
        "    obj = all_objs[obj_id]\n",
        "    print(obj)\n",
        "\n",
        "print(\"-- Create a new object --\")\n",
        "my_model = BaseModel()\n",
        "my_model.name = \"My_First_Model\"\n",
        "my_model.my_number = 89\n",
        "my_model.save()\n",
        "print(my_model)"
      ],
      "metadata": {
        "colab": {
          "base_uri": "https://localhost:8080/"
        },
        "id": "xi6s60dekkzo",
        "outputId": "17ec9647-acdb-423d-ce5d-c1b3dc01e84b"
      },
      "execution_count": null,
      "outputs": [
        {
          "output_type": "stream",
          "name": "stdout",
          "text": [
            "-- Reloaded objects --\n",
            "[BaseModel] (5b5791cc-1e19-4159-9b60-e5f259d2e581) {'id': '5b5791cc-1e19-4159-9b60-e5f259d2e581', 'created_at': datetime.datetime(2023, 3, 11, 22, 56, 11, 697976), 'updated_at': datetime.datetime(2023, 3, 11, 22, 56, 11, 697980), 'name': 'My First Model', 'my_number': 89, 'update_at': datetime.datetime(2023, 3, 11, 22, 56, 11, 698341)}\n",
            "[BaseModel] (ad9f1e8d-39ae-4f80-8192-0393d5785fb3) {'id': 'ad9f1e8d-39ae-4f80-8192-0393d5785fb3', 'created_at': datetime.datetime(2023, 3, 11, 22, 56, 11, 727082), 'updated_at': datetime.datetime(2023, 3, 11, 22, 56, 11, 727086), 'name': 'My_First_Model', 'my_number': 89}\n",
            "-- Create a new object --\n",
            "[BaseModel] (e76cdf0c-15f1-412a-be3c-1743e9675318) {'id': 'e76cdf0c-15f1-412a-be3c-1743e9675318', 'created_at': datetime.datetime(2023, 3, 11, 22, 56, 11, 747294), 'updated_at': datetime.datetime(2023, 3, 11, 22, 56, 11, 747297), 'name': 'My_First_Model', 'my_number': 89, 'update_at': datetime.datetime(2023, 3, 11, 22, 56, 11, 747441)}\n"
          ]
        }
      ]
    }
  ]
}