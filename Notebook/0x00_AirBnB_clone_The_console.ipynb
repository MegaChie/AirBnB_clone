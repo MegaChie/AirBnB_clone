{
  "nbformat": 4,
  "nbformat_minor": 0,
  "metadata": {
    "colab": {
      "provenance": [],
      "authorship_tag": "ABX9TyPBuGyghH/c4y6az5RPB4N9",
      "include_colab_link": true
    },
    "kernelspec": {
      "name": "python3",
      "display_name": "Python 3"
    },
    "language_info": {
      "name": "python"
    }
  },
  "cells": [
    {
      "cell_type": "markdown",
      "metadata": {
        "id": "view-in-github",
        "colab_type": "text"
      },
      "source": [
        "<a href=\"https://colab.research.google.com/github/MegaChie/AirBnB_clone/blob/main/Notebook/0x00_AirBnB_clone_The_console.ipynb\" target=\"_parent\"><img src=\"https://colab.research.google.com/assets/colab-badge.svg\" alt=\"Open In Colab\"/></a>"
      ]
    },
    {
      "cell_type": "markdown",
      "source": [
        "# Classes and Codes"
      ],
      "metadata": {
        "id": "t2Eiq6OFBHL2"
      }
    },
    {
      "cell_type": "code",
      "execution_count": 8,
      "metadata": {
        "id": "v2oJM3xr-wad"
      },
      "outputs": [],
      "source": [
        "import uuid\n",
        "from datetime import datetime\n",
        "\n",
        "\n",
        "class BaseModel:\n",
        "    \"\"\" BaseModel \"\"\"\n",
        "    def __init__(self):\n",
        "        self.id = str(uuid.uuid4())\n",
        "        self.created_at = datetime.now()\n",
        "        self.updated_at = datetime.now()\n",
        "    \n",
        "    def __str__(self):\n",
        "        \"\"\" BaseModel \"\"\"\n",
        "        return (\"[{}] ({}) {}\".format(type(self).__name__,\n",
        "                                      self.id, self.__dict__))\n",
        "        \n",
        "    def save(self):\n",
        "        \"\"\" BaseModel \"\"\"\n",
        "        self.update_at = datetime.now()\n",
        "\n",
        "    def to_dict(self):\n",
        "        \"\"\" BaseModel \"\"\"\n",
        "        newDict = self.__dict__.copy()\n",
        "        newDict[\"__class__\"] = type(self).__name__\n",
        "        newDict[\"created_at\"] = newDict[\"created_at\"].isoformat()\n",
        "        newDict[\"updated_at\"] = newDict[\"updated_at\"].isoformat()\n",
        "        return newDict"
      ]
    },
    {
      "cell_type": "markdown",
      "source": [
        "# Tests"
      ],
      "metadata": {
        "id": "DNqTba5VBIL3"
      }
    },
    {
      "cell_type": "code",
      "source": [
        "my_model = BaseModel()\n",
        "my_model.name = \"My First Model\"\n",
        "my_model.my_number = 89\n",
        "print(my_model)\n",
        "my_model.save()\n",
        "print(my_model)\n",
        "my_model_json = my_model.to_dict()\n",
        "print(my_model_json)\n",
        "print(\"JSON of my_model:\")\n",
        "for key in my_model_json.keys():\n",
        "    print(\"\\t{}: ({}) - {}\".format(key, type(my_model_json[key]), my_model_json[key]))"
      ],
      "metadata": {
        "colab": {
          "base_uri": "https://localhost:8080/"
        },
        "id": "VW16V3vKIAvw",
        "outputId": "4e38e3f4-b024-45ce-fd76-4cddf55bf7a9"
      },
      "execution_count": 9,
      "outputs": [
        {
          "output_type": "stream",
          "name": "stdout",
          "text": [
            "[BaseModel] (afbb7589-e339-460d-9ce7-407d77a1b512) {'id': 'afbb7589-e339-460d-9ce7-407d77a1b512', 'created_at': datetime.datetime(2023, 3, 6, 22, 58, 4, 787357), 'updated_at': datetime.datetime(2023, 3, 6, 22, 58, 4, 787359), 'name': 'My First Model', 'my_number': 89}\n",
            "[BaseModel] (afbb7589-e339-460d-9ce7-407d77a1b512) {'id': 'afbb7589-e339-460d-9ce7-407d77a1b512', 'created_at': datetime.datetime(2023, 3, 6, 22, 58, 4, 787357), 'updated_at': datetime.datetime(2023, 3, 6, 22, 58, 4, 787359), 'name': 'My First Model', 'my_number': 89, 'update_at': datetime.datetime(2023, 3, 6, 22, 58, 4, 787688)}\n",
            "{'id': 'afbb7589-e339-460d-9ce7-407d77a1b512', 'created_at': '2023-03-06T22:58:04.787357', 'updated_at': '2023-03-06T22:58:04.787359', 'name': 'My First Model', 'my_number': 89, 'update_at': datetime.datetime(2023, 3, 6, 22, 58, 4, 787688), '__class__': 'BaseModel'}\n",
            "JSON of my_model:\n",
            "\tid: (<class 'str'>) - afbb7589-e339-460d-9ce7-407d77a1b512\n",
            "\tcreated_at: (<class 'str'>) - 2023-03-06T22:58:04.787357\n",
            "\tupdated_at: (<class 'str'>) - 2023-03-06T22:58:04.787359\n",
            "\tname: (<class 'str'>) - My First Model\n",
            "\tmy_number: (<class 'int'>) - 89\n",
            "\tupdate_at: (<class 'datetime.datetime'>) - 2023-03-06 22:58:04.787688\n",
            "\t__class__: (<class 'str'>) - BaseModel\n"
          ]
        }
      ]
    }
  ]
}