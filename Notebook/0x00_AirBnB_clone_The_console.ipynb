{
  "nbformat": 4,
  "nbformat_minor": 0,
  "metadata": {
    "colab": {
      "provenance": [],
      "collapsed_sections": [
        "DNqTba5VBIL3"
      ],
      "authorship_tag": "ABX9TyO7RnkROcixl9G0MepgTnaA",
      "include_colab_link": true
    },
    "kernelspec": {
      "name": "python3",
      "display_name": "Python 3"
    },
    "language_info": {
      "name": "python"
    }
  },
  "cells": [
    {
      "cell_type": "markdown",
      "metadata": {
        "id": "view-in-github",
        "colab_type": "text"
      },
      "source": [
        "<a href=\"https://colab.research.google.com/github/MegaChie/AirBnB_clone/blob/main/Notebook/0x00_AirBnB_clone_The_console.ipynb\" target=\"_parent\"><img src=\"https://colab.research.google.com/assets/colab-badge.svg\" alt=\"Open In Colab\"/></a>"
      ]
    },
    {
      "cell_type": "markdown",
      "source": [
        "# Classes and Codes"
      ],
      "metadata": {
        "id": "t2Eiq6OFBHL2"
      }
    },
    {
      "cell_type": "code",
      "execution_count": 1,
      "metadata": {
        "id": "v2oJM3xr-wad"
      },
      "outputs": [],
      "source": [
        "# models/base_model.py\n",
        "import uuid\n",
        "from datetime import datetime\n",
        "\n",
        "\n",
        "class BaseModel:\n",
        "    \"\"\" BaseModel \"\"\"\n",
        "    def __init__(self, *args, **kwargs):\n",
        "        if kwargs is not None and  kwargs != {}:\n",
        "            for key in kwargs:\n",
        "                if key == \"created_at\":\n",
        "                    self.__dict__[\"created_at\"] = datetime.strptime(\n",
        "                        kwargs[\"created_at\"], \"%Y-%m-%dT%H:%M:%S.%f\")\n",
        "                elif key == \"updated_at\":\n",
        "                    self.__dict__[\"updated_at\"] = datetime.strptime(\n",
        "                        kwargs[\"updated_at\"], \"%Y-%m-%dT%H:%M:%S.%f\")\n",
        "                else:\n",
        "                    self.__dict__ [key] = kwargs[key] \n",
        "        else:\n",
        "            self.id = str(uuid.uuid4())\n",
        "            self.created_at = datetime.now()\n",
        "            self.updated_at = datetime.now()\n",
        "    \n",
        "    def __str__(self):\n",
        "        \"\"\" BaseModel \"\"\"\n",
        "        return (\"[{}] ({}) {}\".format(type(self).__name__,\n",
        "                                      self.id, self.__dict__))\n",
        "        \n",
        "    def save(self):\n",
        "        \"\"\" BaseModel \"\"\"\n",
        "        self.update_at = datetime.now()\n",
        "\n",
        "    def to_dict(self):\n",
        "        \"\"\" BaseModel \"\"\"\n",
        "        newDict = self.__dict__.copy()\n",
        "        newDict[\"__class__\"] = type(self).__name__\n",
        "        newDict[\"created_at\"] = newDict[\"created_at\"].isoformat()\n",
        "        newDict[\"updated_at\"] = newDict[\"updated_at\"].isoformat()\n",
        "        return newDict"
      ]
    },
    {
      "cell_type": "code",
      "source": [
        "# models/engine/file_storage.py\n",
        "import json\n",
        "import os\n",
        "\n",
        "\n",
        "class FileStorage:\n",
        "    \"\"\" Store first object \"\"\"\n",
        "    __file_path = \"file.json\"\n",
        "    __objects = {}\n",
        "    \n",
        "    def all(self):\n",
        "        \"\"\" Store first object \"\"\"\n",
        "        return self.__objects\n",
        "\n",
        "    def new(self, obj):\n",
        "        \"\"\" Store first object \"\"\"\n",
        "        key = \"{}.{}\".format(type(obj).__name__, obj.id)\n",
        "        self.__objects[key] = obj\n",
        "\n",
        "    def save(self):\n",
        "        \"\"\" Store first object \"\"\"\n",
        "        with open(self.__file_path, \"w\", encoding=\"utf-8\") as writer:\n",
        "            d = {key: value.to_dict() for\n",
        "                 key, value in self.__objects.items()}\n",
        "            json.dump(d, writer)\n",
        "\n",
        "    def reload(self):\n",
        "        \"\"\" Store first object \"\"\"\n",
        "        if not os.path.isfile(self.__file_path):\n",
        "            return\n",
        "        with open(self.__file_path, \"r\", encoding=\"utf-8\") as opener:\n",
        "            obj_dict = json.load(opener)\n",
        "            obj_dict = {key: self.classes()[value[\"__class__\"]](**v)\n",
        "                        for key, value in obj_dict.items()}\n",
        "            self.__objects = obj_dict\n",
        "\n",
        "    def classes(self):\n",
        "        classes = {\"BaseModel\": BaseModel,\n",
        "                   \"User\": User}\n",
        "        return classes"
      ],
      "metadata": {
        "id": "0Zb7pwLVxLYU"
      },
      "execution_count": 2,
      "outputs": []
    },
    {
      "cell_type": "code",
      "source": [
        "# models/__init__.py\n",
        "# from models.engine.file_storage import FileStorage\n",
        "\n",
        "\n",
        "storage = FileStorage()\n",
        "storage.reload()"
      ],
      "metadata": {
        "id": "abLtQw34fi0Y"
      },
      "execution_count": 3,
      "outputs": []
    },
    {
      "cell_type": "code",
      "source": [
        "# models/user.py\n",
        "class User(BaseModel):\n",
        "    \"\"\" First User \"\"\"\n",
        "    email = \"\"\n",
        "    password = \"\"\n",
        "    first_name = \"\"\n",
        "    last_name = \"\""
      ],
      "metadata": {
        "id": "e5spPxK1GsPj"
      },
      "execution_count": null,
      "outputs": []
    },
    {
      "cell_type": "code",
      "source": [
        "# models/state.py\n",
        "class State(BaseModel):\n",
        "    \"\"\" More classes! \"\"\"\n",
        "    name = \"\""
      ],
      "metadata": {
        "id": "v9Yno5Q8H9qU"
      },
      "execution_count": null,
      "outputs": []
    },
    {
      "cell_type": "code",
      "source": [
        "# models/city.py\n",
        "class City(BaseModel):\n",
        "    \"\"\" More classes! \"\"\"\n",
        "    state_id = \"\"\n",
        "    name = \"\""
      ],
      "metadata": {
        "id": "0vJXVskIIPbw"
      },
      "execution_count": null,
      "outputs": []
    },
    {
      "cell_type": "code",
      "source": [
        "# models/amenity.py\n",
        "class Amenity(BaseModel):\n",
        "    \"\"\" More classes! \"\"\"\n",
        "    name = \"\""
      ],
      "metadata": {
        "id": "-V5RZp1qIup4"
      },
      "execution_count": null,
      "outputs": []
    },
    {
      "cell_type": "code",
      "source": [
        "# models/place.py\n",
        "class Place(BaseModel):\n",
        "    \"\"\" More classes! \"\"\"\n",
        "    city_id = \"\"\n",
        "    user_id = \"\"\n",
        "    name = \"\"\n",
        "    name = \"\"\n",
        "    number_rooms = 0\n",
        "    number_bathrooms = 0\n",
        "    max_guest = 0\n",
        "    price_by_night = 0\n",
        "    latitude = 0.0\n",
        "    longitude = 0.0\n",
        "    amenity_ids = []"
      ],
      "metadata": {
        "id": "3nAZJEx8I-yf"
      },
      "execution_count": null,
      "outputs": []
    },
    {
      "cell_type": "code",
      "source": [
        "# models/review.py\n",
        "class Review(BaseModel):\n",
        "    \"\"\" More classes! \"\"\"\n",
        "    place_id = \"\"\n",
        "    user_id = \"\"\n",
        "    text = \"\""
      ],
      "metadata": {
        "id": "bWzsZDihJ2rX"
      },
      "execution_count": null,
      "outputs": []
    },
    {
      "cell_type": "markdown",
      "source": [
        "# Tests"
      ],
      "metadata": {
        "id": "DNqTba5VBIL3"
      }
    },
    {
      "cell_type": "code",
      "source": [
        "my_model = BaseModel()\n",
        "my_model.name = \"My First Model\"\n",
        "my_model.my_number = 89\n",
        "print(my_model)\n",
        "my_model.save()\n",
        "print(my_model)\n",
        "my_model_json = my_model.to_dict()\n",
        "print(my_model_json)\n",
        "print(\"JSON of my_model:\")\n",
        "for key in my_model_json.keys():\n",
        "    print(\"\\t{}: ({}) - {}\".format(key, type(my_model_json[key]), my_model_json[key]))"
      ],
      "metadata": {
        "colab": {
          "base_uri": "https://localhost:8080/"
        },
        "id": "VW16V3vKIAvw",
        "outputId": "a4c22976-839e-442f-ff91-2db24d2fdfc8"
      },
      "execution_count": 4,
      "outputs": [
        {
          "output_type": "stream",
          "name": "stdout",
          "text": [
            "[BaseModel] (9516969c-7398-4b7b-92f1-4295163df39c) {'id': '9516969c-7398-4b7b-92f1-4295163df39c', 'created_at': datetime.datetime(2023, 3, 7, 22, 2, 24, 537733), 'updated_at': datetime.datetime(2023, 3, 7, 22, 2, 24, 537738), 'name': 'My First Model', 'my_number': 89}\n",
            "[BaseModel] (9516969c-7398-4b7b-92f1-4295163df39c) {'id': '9516969c-7398-4b7b-92f1-4295163df39c', 'created_at': datetime.datetime(2023, 3, 7, 22, 2, 24, 537733), 'updated_at': datetime.datetime(2023, 3, 7, 22, 2, 24, 537738), 'name': 'My First Model', 'my_number': 89, 'update_at': datetime.datetime(2023, 3, 7, 22, 2, 24, 540535)}\n",
            "{'id': '9516969c-7398-4b7b-92f1-4295163df39c', 'created_at': '2023-03-07T22:02:24.537733', 'updated_at': '2023-03-07T22:02:24.537738', 'name': 'My First Model', 'my_number': 89, 'update_at': datetime.datetime(2023, 3, 7, 22, 2, 24, 540535), '__class__': 'BaseModel'}\n",
            "JSON of my_model:\n",
            "\tid: (<class 'str'>) - 9516969c-7398-4b7b-92f1-4295163df39c\n",
            "\tcreated_at: (<class 'str'>) - 2023-03-07T22:02:24.537733\n",
            "\tupdated_at: (<class 'str'>) - 2023-03-07T22:02:24.537738\n",
            "\tname: (<class 'str'>) - My First Model\n",
            "\tmy_number: (<class 'int'>) - 89\n",
            "\tupdate_at: (<class 'datetime.datetime'>) - 2023-03-07 22:02:24.540535\n",
            "\t__class__: (<class 'str'>) - BaseModel\n"
          ]
        }
      ]
    },
    {
      "cell_type": "code",
      "source": [
        "my_model = BaseModel()\n",
        "my_model.name = \"My_First_Model\"\n",
        "my_model.my_number = 89\n",
        "print(my_model.id)\n",
        "print(my_model)\n",
        "print(type(my_model.created_at))\n",
        "print(\"--\")\n",
        "my_model_json = my_model.to_dict()\n",
        "print(my_model_json)\n",
        "print(\"JSON of my_model:\")\n",
        "for key in my_model_json.keys():\n",
        "    print(\"\\t{}: ({}) - {}\".format(key, type(my_model_json[key]), my_model_json[key]))\n",
        "\n",
        "print(\"--\")\n",
        "my_new_model = BaseModel(**my_model_json)\n",
        "print(my_new_model.id)\n",
        "print(my_new_model)\n",
        "print(type(my_new_model.created_at))\n",
        "\n",
        "print(\"--\")\n",
        "print(my_model is my_new_model)"
      ],
      "metadata": {
        "colab": {
          "base_uri": "https://localhost:8080/"
        },
        "id": "MapXEYWcTdAU",
        "outputId": "ba264130-0713-4b15-845e-6760e825da34"
      },
      "execution_count": 5,
      "outputs": [
        {
          "output_type": "stream",
          "name": "stdout",
          "text": [
            "b1d8679c-229a-43ba-a153-e213c11dc53b\n",
            "[BaseModel] (b1d8679c-229a-43ba-a153-e213c11dc53b) {'id': 'b1d8679c-229a-43ba-a153-e213c11dc53b', 'created_at': datetime.datetime(2023, 3, 7, 22, 2, 24, 564090), 'updated_at': datetime.datetime(2023, 3, 7, 22, 2, 24, 564094), 'name': 'My_First_Model', 'my_number': 89}\n",
            "<class 'datetime.datetime'>\n",
            "--\n",
            "{'id': 'b1d8679c-229a-43ba-a153-e213c11dc53b', 'created_at': '2023-03-07T22:02:24.564090', 'updated_at': '2023-03-07T22:02:24.564094', 'name': 'My_First_Model', 'my_number': 89, '__class__': 'BaseModel'}\n",
            "JSON of my_model:\n",
            "\tid: (<class 'str'>) - b1d8679c-229a-43ba-a153-e213c11dc53b\n",
            "\tcreated_at: (<class 'str'>) - 2023-03-07T22:02:24.564090\n",
            "\tupdated_at: (<class 'str'>) - 2023-03-07T22:02:24.564094\n",
            "\tname: (<class 'str'>) - My_First_Model\n",
            "\tmy_number: (<class 'int'>) - 89\n",
            "\t__class__: (<class 'str'>) - BaseModel\n",
            "--\n",
            "b1d8679c-229a-43ba-a153-e213c11dc53b\n",
            "[BaseModel] (b1d8679c-229a-43ba-a153-e213c11dc53b) {'id': 'b1d8679c-229a-43ba-a153-e213c11dc53b', 'created_at': datetime.datetime(2023, 3, 7, 22, 2, 24, 564090), 'updated_at': datetime.datetime(2023, 3, 7, 22, 2, 24, 564094), 'name': 'My_First_Model', 'my_number': 89, '__class__': 'BaseModel'}\n",
            "<class 'datetime.datetime'>\n",
            "--\n",
            "False\n"
          ]
        }
      ]
    },
    {
      "cell_type": "code",
      "source": [
        "all_objs = storage.all()\n",
        "print(\"-- Reloaded objects --\")\n",
        "for obj_id in all_objs.keys():\n",
        "    obj = all_objs[obj_id]\n",
        "    print(obj)\n",
        "\n",
        "print(\"-- Create a new object --\")\n",
        "my_model = BaseModel()\n",
        "my_model.name = \"My_First_Model\"\n",
        "my_model.my_number = 89\n",
        "my_model.save()\n",
        "print(my_model)"
      ],
      "metadata": {
        "colab": {
          "base_uri": "https://localhost:8080/"
        },
        "id": "xi6s60dekkzo",
        "outputId": "d5522ddb-373c-4ced-a48d-0495259a532d"
      },
      "execution_count": 6,
      "outputs": [
        {
          "output_type": "stream",
          "name": "stdout",
          "text": [
            "-- Reloaded objects --\n",
            "-- Create a new object --\n",
            "[BaseModel] (cc45a79b-79d5-4a9f-a767-70f2507a4cfb) {'id': 'cc45a79b-79d5-4a9f-a767-70f2507a4cfb', 'created_at': datetime.datetime(2023, 3, 7, 22, 2, 24, 591282), 'updated_at': datetime.datetime(2023, 3, 7, 22, 2, 24, 591286), 'name': 'My_First_Model', 'my_number': 89, 'update_at': datetime.datetime(2023, 3, 7, 22, 2, 24, 591422)}\n"
          ]
        }
      ]
    }
  ]
}