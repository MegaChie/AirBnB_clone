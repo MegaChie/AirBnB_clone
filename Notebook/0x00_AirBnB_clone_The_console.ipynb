{
  "nbformat": 4,
  "nbformat_minor": 0,
  "metadata": {
    "colab": {
      "provenance": [],
      "authorship_tag": "ABX9TyNbmP+c3ua62QArp7SaD1QN",
      "include_colab_link": true
    },
    "kernelspec": {
      "name": "python3",
      "display_name": "Python 3"
    },
    "language_info": {
      "name": "python"
    }
  },
  "cells": [
    {
      "cell_type": "markdown",
      "metadata": {
        "id": "view-in-github",
        "colab_type": "text"
      },
      "source": [
        "<a href=\"https://colab.research.google.com/github/MegaChie/AirBnB_clone/blob/main/Notebook/0x00_AirBnB_clone_The_console.ipynb\" target=\"_parent\"><img src=\"https://colab.research.google.com/assets/colab-badge.svg\" alt=\"Open In Colab\"/></a>"
      ]
    },
    {
      "cell_type": "markdown",
      "source": [
        "# Classes and Codes"
      ],
      "metadata": {
        "id": "t2Eiq6OFBHL2"
      }
    },
    {
      "cell_type": "code",
      "execution_count": 1,
      "metadata": {
        "id": "v2oJM3xr-wad"
      },
      "outputs": [],
      "source": [
        "import uuid\n",
        "from datetime import datetime\n",
        "\n",
        "\n",
        "class BaseModel:\n",
        "    \"\"\" BaseModel \"\"\"\n",
        "    def __init__(self, *args, **kwargs):\n",
        "        if kwargs is not None and  kwargs != {}:\n",
        "            for key in kwargs:\n",
        "                if key == \"created_at\":\n",
        "                    self.__dict__[\"created_at\"] = datetime.strptime(\n",
        "                        kwargs[\"created_at\"], \"%Y-%m-%dT%H:%M:%S.%f\")\n",
        "                elif key == \"updated_at\":\n",
        "                    self.__dict__[\"updated_at\"] = datetime.strptime(\n",
        "                        kwargs[\"updated_at\"], \"%Y-%m-%dT%H:%M:%S.%f\")\n",
        "                else:\n",
        "                    self.__dict__ [key] = kwargs[key] \n",
        "        else:\n",
        "            self.id = str(uuid.uuid4())\n",
        "            self.created_at = datetime.now()\n",
        "            self.updated_at = datetime.now()\n",
        "    \n",
        "    def __str__(self):\n",
        "        \"\"\" BaseModel \"\"\"\n",
        "        return (\"[{}] ({}) {}\".format(type(self).__name__,\n",
        "                                      self.id, self.__dict__))\n",
        "        \n",
        "    def save(self):\n",
        "        \"\"\" BaseModel \"\"\"\n",
        "        self.update_at = datetime.now()\n",
        "\n",
        "    def to_dict(self):\n",
        "        \"\"\" BaseModel \"\"\"\n",
        "        newDict = self.__dict__.copy()\n",
        "        newDict[\"__class__\"] = type(self).__name__\n",
        "        newDict[\"created_at\"] = newDict[\"created_at\"].isoformat()\n",
        "        newDict[\"updated_at\"] = newDict[\"updated_at\"].isoformat()\n",
        "        return newDict"
      ]
    },
    {
      "cell_type": "markdown",
      "source": [
        "# Tests"
      ],
      "metadata": {
        "id": "DNqTba5VBIL3"
      }
    },
    {
      "cell_type": "code",
      "source": [
        "my_model = BaseModel()\n",
        "my_model.name = \"My First Model\"\n",
        "my_model.my_number = 89\n",
        "print(my_model)\n",
        "my_model.save()\n",
        "print(my_model)\n",
        "my_model_json = my_model.to_dict()\n",
        "print(my_model_json)\n",
        "print(\"JSON of my_model:\")\n",
        "for key in my_model_json.keys():\n",
        "    print(\"\\t{}: ({}) - {}\".format(key, type(my_model_json[key]), my_model_json[key]))"
      ],
      "metadata": {
        "colab": {
          "base_uri": "https://localhost:8080/"
        },
        "id": "VW16V3vKIAvw",
        "outputId": "0b94a1cc-870a-4859-a57a-b97e87bb6379"
      },
      "execution_count": 2,
      "outputs": [
        {
          "output_type": "stream",
          "name": "stdout",
          "text": [
            "[BaseModel] (e4509d6c-487f-477e-b74b-7ebb5c10563a) {'id': 'e4509d6c-487f-477e-b74b-7ebb5c10563a', 'created_at': datetime.datetime(2023, 3, 6, 23, 47, 54, 77466), 'updated_at': datetime.datetime(2023, 3, 6, 23, 47, 54, 77471), 'name': 'My First Model', 'my_number': 89}\n",
            "[BaseModel] (e4509d6c-487f-477e-b74b-7ebb5c10563a) {'id': 'e4509d6c-487f-477e-b74b-7ebb5c10563a', 'created_at': datetime.datetime(2023, 3, 6, 23, 47, 54, 77466), 'updated_at': datetime.datetime(2023, 3, 6, 23, 47, 54, 77471), 'name': 'My First Model', 'my_number': 89, 'update_at': datetime.datetime(2023, 3, 6, 23, 47, 54, 82939)}\n",
            "{'id': 'e4509d6c-487f-477e-b74b-7ebb5c10563a', 'created_at': '2023-03-06T23:47:54.077466', 'updated_at': '2023-03-06T23:47:54.077471', 'name': 'My First Model', 'my_number': 89, 'update_at': datetime.datetime(2023, 3, 6, 23, 47, 54, 82939), '__class__': 'BaseModel'}\n",
            "JSON of my_model:\n",
            "\tid: (<class 'str'>) - e4509d6c-487f-477e-b74b-7ebb5c10563a\n",
            "\tcreated_at: (<class 'str'>) - 2023-03-06T23:47:54.077466\n",
            "\tupdated_at: (<class 'str'>) - 2023-03-06T23:47:54.077471\n",
            "\tname: (<class 'str'>) - My First Model\n",
            "\tmy_number: (<class 'int'>) - 89\n",
            "\tupdate_at: (<class 'datetime.datetime'>) - 2023-03-06 23:47:54.082939\n",
            "\t__class__: (<class 'str'>) - BaseModel\n"
          ]
        }
      ]
    },
    {
      "cell_type": "code",
      "source": [
        "my_model = BaseModel()\n",
        "my_model.name = \"My_First_Model\"\n",
        "my_model.my_number = 89\n",
        "print(my_model.id)\n",
        "print(my_model)\n",
        "print(type(my_model.created_at))\n",
        "print(\"--\")\n",
        "my_model_json = my_model.to_dict()\n",
        "print(my_model_json)\n",
        "print(\"JSON of my_model:\")\n",
        "for key in my_model_json.keys():\n",
        "    print(\"\\t{}: ({}) - {}\".format(key, type(my_model_json[key]), my_model_json[key]))\n",
        "\n",
        "print(\"--\")\n",
        "my_new_model = BaseModel(**my_model_json)\n",
        "print(my_new_model.id)\n",
        "print(my_new_model)\n",
        "print(type(my_new_model.created_at))\n",
        "\n",
        "print(\"--\")\n",
        "print(my_model is my_new_model)"
      ],
      "metadata": {
        "colab": {
          "base_uri": "https://localhost:8080/"
        },
        "id": "MapXEYWcTdAU",
        "outputId": "9eccd1c2-33b9-4b00-d96d-b89bb3710e39"
      },
      "execution_count": 3,
      "outputs": [
        {
          "output_type": "stream",
          "name": "stdout",
          "text": [
            "5fb8878e-307f-4bf1-8465-1594df742f7c\n",
            "[BaseModel] (5fb8878e-307f-4bf1-8465-1594df742f7c) {'id': '5fb8878e-307f-4bf1-8465-1594df742f7c', 'created_at': datetime.datetime(2023, 3, 6, 23, 47, 54, 719385), 'updated_at': datetime.datetime(2023, 3, 6, 23, 47, 54, 719388), 'name': 'My_First_Model', 'my_number': 89}\n",
            "<class 'datetime.datetime'>\n",
            "--\n",
            "{'id': '5fb8878e-307f-4bf1-8465-1594df742f7c', 'created_at': '2023-03-06T23:47:54.719385', 'updated_at': '2023-03-06T23:47:54.719388', 'name': 'My_First_Model', 'my_number': 89, '__class__': 'BaseModel'}\n",
            "JSON of my_model:\n",
            "\tid: (<class 'str'>) - 5fb8878e-307f-4bf1-8465-1594df742f7c\n",
            "\tcreated_at: (<class 'str'>) - 2023-03-06T23:47:54.719385\n",
            "\tupdated_at: (<class 'str'>) - 2023-03-06T23:47:54.719388\n",
            "\tname: (<class 'str'>) - My_First_Model\n",
            "\tmy_number: (<class 'int'>) - 89\n",
            "\t__class__: (<class 'str'>) - BaseModel\n",
            "--\n",
            "5fb8878e-307f-4bf1-8465-1594df742f7c\n",
            "[BaseModel] (5fb8878e-307f-4bf1-8465-1594df742f7c) {'id': '5fb8878e-307f-4bf1-8465-1594df742f7c', 'created_at': datetime.datetime(2023, 3, 6, 23, 47, 54, 719385), 'updated_at': datetime.datetime(2023, 3, 6, 23, 47, 54, 719388), 'name': 'My_First_Model', 'my_number': 89, '__class__': 'BaseModel'}\n",
            "<class 'datetime.datetime'>\n",
            "--\n",
            "False\n"
          ]
        }
      ]
    }
  ]
}